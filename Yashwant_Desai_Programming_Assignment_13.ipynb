{
 "cells": [
  {
   "cell_type": "markdown",
   "id": "0c27a818",
   "metadata": {},
   "source": [
    "# Yashwant Desai –  Programming_Assingment 13"
   ]
  },
  {
   "cell_type": "markdown",
   "id": "a7b55cae",
   "metadata": {},
   "source": [
    "# Question 1:\n",
    "\n",
    "Write a program that calculates and prints the value according to the given formula:\n",
    "Q = Square root of [(2 * C * D)/H]\n",
    "Following are the fixed values of C and H:\n",
    "C is 50. H is 30.\n",
    "D is the variable whose values should be input to your program in a comma-separated sequence.\n",
    "Example\n",
    "Let us assume the following comma separated input sequence is given to the program:\n",
    "100,150,180\n",
    "The output of the program should be:\n",
    "18,22,24\n"
   ]
  },
  {
   "cell_type": "code",
   "execution_count": 11,
   "id": "6b49bc10",
   "metadata": {},
   "outputs": [
    {
     "name": "stdout",
     "output_type": "stream",
     "text": [
      "input sequence is 100,150,180\n",
      "result is: 18,22,24\n"
     ]
    }
   ],
   "source": [
    "import math\n",
    "def calculate_values(input_sequence, C, H):\n",
    "    results = []\n",
    "    for D in input_sequence:\n",
    "        Q = math.sqrt((2 * C * int(D)) / H)\n",
    "        results.append(round(Q))\n",
    "    return results\n",
    "def main():\n",
    "    C = 50\n",
    "    H = 30\n",
    "    input_sequence = (\"100,150,180\")\n",
    "    #input_sequence = input(\"Enter the comma-separated sequence of D values: \")\n",
    "    print(f\"input sequence is {input_sequence}\")\n",
    "    input_sequence = input_sequence.split(',')\n",
    "    try:\n",
    "        output = calculate_values(input_sequence, C, H)\n",
    "        result = (','.join(str(val) for val in output))\n",
    "        print(f\"result is: {result}\")\n",
    "    except ValueError:\n",
    "        print(\"Invalid input.\")\n",
    "if __name__ == \"__main__\":\n",
    "    main()"
   ]
  },
  {
   "cell_type": "markdown",
   "id": "78248980",
   "metadata": {},
   "source": [
    "# Question 2:\n",
    "Write a program which takes 2 digits, X,Y as input and generates a 2-dimensional array. The element value in the i-th row and j-th column of the array should be i*j.\n",
    "Note: i=0,1.., X-1; j=0,1,¡¬Y-1.\n",
    "Example\n",
    "Suppose the following inputs are given to the program:\n",
    "3,5\n",
    "Then, the output of the program should be:\n",
    "[[0, 0, 0, 0, 0], [0, 1, 2, 3, 4], [0, 2, 4, 6, 8]] "
   ]
  },
  {
   "cell_type": "code",
   "execution_count": 2,
   "id": "42d039e7",
   "metadata": {},
   "outputs": [
    {
     "name": "stdout",
     "output_type": "stream",
     "text": [
      "Enter two digits (X, Y): 3,5\n",
      "[[0, 0, 0, 0, 0], [0, 1, 2, 3, 4], [0, 2, 4, 6, 8]]\n"
     ]
    }
   ],
   "source": [
    "def generate_2d_array(X, Y):\n",
    "    array_2d = []\n",
    "    for i in range(X):\n",
    "        row = []\n",
    "        for j in range(Y):\n",
    "            row.append(i * j)\n",
    "        array_2d.append(row)\n",
    "    return array_2d\n",
    "def main():\n",
    "    try:\n",
    "        X, Y = map(int, input(\"Enter two digits (X, Y): \").split(','))        \n",
    "        if X < 0 or Y < 0:\n",
    "            raise ValueError\n",
    "        output_array = generate_2d_array(X, Y)\n",
    "        print(output_array)\n",
    "    except ValueError:\n",
    "        print(\"Invalid input. Please enter two non-negative integers separated by a comma.\")\n",
    "\n",
    "if __name__ == \"__main__\":\n",
    "    main()"
   ]
  },
  {
   "cell_type": "markdown",
   "id": "dabf8393",
   "metadata": {},
   "source": [
    "# Question 3:\n",
    "Write a program that accepts a comma separated sequence of words as input and prints the words in a comma-separated sequence after sorting them alphabetically.\n",
    "Suppose the following input is supplied to the program:\n",
    "without,hello,bag,world\n",
    "Then, the output should be:\n",
    "bag,hello,without,world"
   ]
  },
  {
   "cell_type": "code",
   "execution_count": 13,
   "id": "e1bb82a1",
   "metadata": {},
   "outputs": [
    {
     "name": "stdout",
     "output_type": "stream",
     "text": [
      "Enter comma-separated words: without,hello,bag,world\n",
      "bag,hello,without,world\n"
     ]
    }
   ],
   "source": [
    "def sort_words(input_sequence):\n",
    "    words = input_sequence.split(',')\n",
    "    words.sort()\n",
    "    return ','.join(words)\n",
    "def main():\n",
    "    input_sequence = input(\"Enter comma-separated words: \")\n",
    "    output_sequence = sort_words(input_sequence)\n",
    "    print(output_sequence)\n",
    "if __name__ == \"__main__\":\n",
    "    main()"
   ]
  },
  {
   "cell_type": "markdown",
   "id": "c5c5eafb",
   "metadata": {},
   "source": [
    "# Question 4:\n",
    "Write a program that accepts a sequence of whitespace separated words as input and prints the words after removing all duplicate words and sorting them alphanumerically.\n",
    "Suppose the following input is supplied to the program:\n",
    "hello world and practice makes perfect and hello world again\n",
    "Then, the output should be:\n",
    "again and hello makes perfect practice world"
   ]
  },
  {
   "cell_type": "code",
   "execution_count": 16,
   "id": "1aaebfc3",
   "metadata": {},
   "outputs": [
    {
     "name": "stdout",
     "output_type": "stream",
     "text": [
      "Enter whitespace-separated words: hello world and practice makes perfect    and hello world again\n",
      "output_sequence:again and hello makes perfect practice world\n"
     ]
    }
   ],
   "source": [
    "def remove_duplicates_and_sort(input_sequence):\n",
    "    words = input_sequence.split()\n",
    "    unique_words = list(set(words))\n",
    "    unique_words.sort()\n",
    "    return ' '.join(unique_words)\n",
    "def main():\n",
    "    input_sequence = input(\"Enter whitespace-separated words: \")\n",
    "    output_sequence = remove_duplicates_and_sort(input_sequence)\n",
    "    print(f\"output_sequence:{output_sequence}\")\n",
    "if __name__ == \"__main__\":\n",
    "    main()"
   ]
  },
  {
   "cell_type": "markdown",
   "id": "3f5c814c",
   "metadata": {},
   "source": [
    "# Question 5:\n",
    "Write a program that accepts a sentence and calculate the number of letters and digits.\n",
    "Suppose the following input is supplied to the program:\n",
    "hello world! 123\n",
    "Then, the output should be:\n",
    "LETTERS 10\n",
    "DIGITS 3"
   ]
  },
  {
   "cell_type": "code",
   "execution_count": 18,
   "id": "e19ac8d6",
   "metadata": {},
   "outputs": [
    {
     "name": "stdout",
     "output_type": "stream",
     "text": [
      "Enter a sentence: hello world! 123\n",
      "LETTERS 10\n",
      "DIGITS 3\n"
     ]
    }
   ],
   "source": [
    "def count_letters_digits(sentence):\n",
    "    num_letters = 0\n",
    "    num_digits = 0\n",
    "\n",
    "    for char in sentence:\n",
    "        if char.isalpha():\n",
    "            num_letters += 1\n",
    "        elif char.isdigit():\n",
    "            num_digits += 1\n",
    "\n",
    "    return num_letters, num_digits\n",
    "\n",
    "def main():\n",
    "    sentence = input(\"Enter a sentence: \")\n",
    "    num_letters, num_digits = count_letters_digits(sentence)\n",
    "\n",
    "    print(\"LETTERS\", num_letters)\n",
    "    print(\"DIGITS\", num_digits)\n",
    "\n",
    "if __name__ == \"__main__\":\n",
    "    main()"
   ]
  },
  {
   "cell_type": "markdown",
   "id": "ac33651d",
   "metadata": {},
   "source": [
    "# Question 6:\n",
    "A website requires the users to input username and password to register. Write a program to check the validity of password input by users.\n",
    "Following are the criteria for checking the password:\n",
    "1. At least 1 letter between [a-z]\n",
    "2. At least 1 number between [0-9]\n",
    "1. At least 1 letter between [A-Z]\n",
    "3. At least 1 character from [$#@]\n",
    "4. Minimum length of transaction password: 6\n",
    "5. Maximum length of transaction password: 12\n",
    "Your program should accept a sequence of comma separated passwords and will check them according to the above criteria. Passwords that match the criteria are to be printed, each separated by a comma.\n",
    "Example\n",
    "If the following passwords are given as input to the program:\n",
    "ABd1234@1,a F1#,2w3E*,2We3345\n",
    "Then, the output of the program should be:\n",
    "ABd1234@1"
   ]
  },
  {
   "cell_type": "code",
   "execution_count": 20,
   "id": "ce849048",
   "metadata": {},
   "outputs": [
    {
     "name": "stdout",
     "output_type": "stream",
     "text": [
      "Enter passwords: ABd1234@1,a F1#,2w3E*,2We3345\n",
      "valid password :ABd1234@1\n"
     ]
    }
   ],
   "source": [
    "import re\n",
    "def is_valid_password(password):\n",
    "    if 6 <= len(password) <= 12:\n",
    "        if re.search(r\"[a-z]\", password) and re.search(r\"[A-Z]\", password) and re.search(r\"\\d\", password) and re.search(r\"[$#@]\", password):\n",
    "            return True\n",
    "    return False\n",
    "def main():\n",
    "    passwords_input = input(\"Enter passwords: \")\n",
    "    passwords = passwords_input.split(',')\n",
    "    valid_passwords = [password for password in passwords if is_valid_password(password)]\n",
    "    valid_pass = (','.join(valid_passwords))\n",
    "    print(f\"valid password :{valid_pass}\")\n",
    "if __name__ == \"__main__\":\n",
    "    main()"
   ]
  },
  {
   "cell_type": "markdown",
   "id": "a79c0885",
   "metadata": {},
   "source": [
    "# Done Regards,Yashwant"
   ]
  }
 ],
 "metadata": {
  "kernelspec": {
   "display_name": "Python 3 (ipykernel)",
   "language": "python",
   "name": "python3"
  },
  "language_info": {
   "codemirror_mode": {
    "name": "ipython",
    "version": 3
   },
   "file_extension": ".py",
   "mimetype": "text/x-python",
   "name": "python",
   "nbconvert_exporter": "python",
   "pygments_lexer": "ipython3",
   "version": "3.9.13"
  }
 },
 "nbformat": 4,
 "nbformat_minor": 5
}
